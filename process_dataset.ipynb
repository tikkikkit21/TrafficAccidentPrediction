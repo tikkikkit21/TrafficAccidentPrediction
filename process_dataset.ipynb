{
 "cells": [
  {
   "cell_type": "markdown",
   "metadata": {},
   "source": [
    "# Feature Engineering\n",
    "## Imports & Libraries"
   ]
  },
  {
   "cell_type": "code",
   "execution_count": 1,
   "metadata": {},
   "outputs": [],
   "source": [
    "import pandas as pd\n",
    "import numpy as np\n",
    "from datetime import datetime\n",
    "import matplotlib.pyplot as plt\n",
    "import seaborn as sns\n",
    "from sklearn.model_selection import train_test_split\n",
    "from sklearn.linear_model import LogisticRegression\n",
    "from sklearn.metrics import classification_report"
   ]
  },
  {
   "cell_type": "markdown",
   "metadata": {},
   "source": [
    "## Load Dataset\n",
    "First we read the CSV file and preview its contents with `head()`."
   ]
  },
  {
   "cell_type": "code",
   "execution_count": 2,
   "metadata": {},
   "outputs": [
    {
     "data": {
      "text/html": [
       "<div>\n",
       "<style scoped>\n",
       "    .dataframe tbody tr th:only-of-type {\n",
       "        vertical-align: middle;\n",
       "    }\n",
       "\n",
       "    .dataframe tbody tr th {\n",
       "        vertical-align: top;\n",
       "    }\n",
       "\n",
       "    .dataframe thead th {\n",
       "        text-align: right;\n",
       "    }\n",
       "</style>\n",
       "<table border=\"1\" class=\"dataframe\">\n",
       "  <thead>\n",
       "    <tr style=\"text-align: right;\">\n",
       "      <th></th>\n",
       "      <th>ID</th>\n",
       "      <th>Source</th>\n",
       "      <th>Severity</th>\n",
       "      <th>Start_Time</th>\n",
       "      <th>End_Time</th>\n",
       "      <th>Start_Lat</th>\n",
       "      <th>Start_Lng</th>\n",
       "      <th>End_Lat</th>\n",
       "      <th>End_Lng</th>\n",
       "      <th>Distance(mi)</th>\n",
       "      <th>...</th>\n",
       "      <th>Roundabout</th>\n",
       "      <th>Station</th>\n",
       "      <th>Stop</th>\n",
       "      <th>Traffic_Calming</th>\n",
       "      <th>Traffic_Signal</th>\n",
       "      <th>Turning_Loop</th>\n",
       "      <th>Sunrise_Sunset</th>\n",
       "      <th>Civil_Twilight</th>\n",
       "      <th>Nautical_Twilight</th>\n",
       "      <th>Astronomical_Twilight</th>\n",
       "    </tr>\n",
       "  </thead>\n",
       "  <tbody>\n",
       "    <tr>\n",
       "      <th>0</th>\n",
       "      <td>A-2047758</td>\n",
       "      <td>Source2</td>\n",
       "      <td>2</td>\n",
       "      <td>2019-06-12 10:10:56</td>\n",
       "      <td>2019-06-12 10:55:58</td>\n",
       "      <td>30.641211</td>\n",
       "      <td>-91.153481</td>\n",
       "      <td>NaN</td>\n",
       "      <td>NaN</td>\n",
       "      <td>0.000</td>\n",
       "      <td>...</td>\n",
       "      <td>False</td>\n",
       "      <td>False</td>\n",
       "      <td>False</td>\n",
       "      <td>False</td>\n",
       "      <td>True</td>\n",
       "      <td>False</td>\n",
       "      <td>Day</td>\n",
       "      <td>Day</td>\n",
       "      <td>Day</td>\n",
       "      <td>Day</td>\n",
       "    </tr>\n",
       "    <tr>\n",
       "      <th>1</th>\n",
       "      <td>A-4694324</td>\n",
       "      <td>Source1</td>\n",
       "      <td>2</td>\n",
       "      <td>2022-12-03 23:37:14.000000000</td>\n",
       "      <td>2022-12-04 01:56:53.000000000</td>\n",
       "      <td>38.990562</td>\n",
       "      <td>-77.399070</td>\n",
       "      <td>38.990037</td>\n",
       "      <td>-77.398282</td>\n",
       "      <td>0.056</td>\n",
       "      <td>...</td>\n",
       "      <td>False</td>\n",
       "      <td>False</td>\n",
       "      <td>False</td>\n",
       "      <td>False</td>\n",
       "      <td>False</td>\n",
       "      <td>False</td>\n",
       "      <td>Night</td>\n",
       "      <td>Night</td>\n",
       "      <td>Night</td>\n",
       "      <td>Night</td>\n",
       "    </tr>\n",
       "    <tr>\n",
       "      <th>2</th>\n",
       "      <td>A-5006183</td>\n",
       "      <td>Source1</td>\n",
       "      <td>2</td>\n",
       "      <td>2022-08-20 13:13:00.000000000</td>\n",
       "      <td>2022-08-20 15:22:45.000000000</td>\n",
       "      <td>34.661189</td>\n",
       "      <td>-120.492822</td>\n",
       "      <td>34.661189</td>\n",
       "      <td>-120.492442</td>\n",
       "      <td>0.022</td>\n",
       "      <td>...</td>\n",
       "      <td>False</td>\n",
       "      <td>False</td>\n",
       "      <td>False</td>\n",
       "      <td>False</td>\n",
       "      <td>True</td>\n",
       "      <td>False</td>\n",
       "      <td>Day</td>\n",
       "      <td>Day</td>\n",
       "      <td>Day</td>\n",
       "      <td>Day</td>\n",
       "    </tr>\n",
       "    <tr>\n",
       "      <th>3</th>\n",
       "      <td>A-4237356</td>\n",
       "      <td>Source1</td>\n",
       "      <td>2</td>\n",
       "      <td>2022-02-21 17:43:04</td>\n",
       "      <td>2022-02-21 19:43:23</td>\n",
       "      <td>43.680592</td>\n",
       "      <td>-92.993317</td>\n",
       "      <td>43.680574</td>\n",
       "      <td>-92.972223</td>\n",
       "      <td>1.054</td>\n",
       "      <td>...</td>\n",
       "      <td>False</td>\n",
       "      <td>False</td>\n",
       "      <td>False</td>\n",
       "      <td>False</td>\n",
       "      <td>False</td>\n",
       "      <td>False</td>\n",
       "      <td>Day</td>\n",
       "      <td>Day</td>\n",
       "      <td>Day</td>\n",
       "      <td>Day</td>\n",
       "    </tr>\n",
       "    <tr>\n",
       "      <th>4</th>\n",
       "      <td>A-6690583</td>\n",
       "      <td>Source1</td>\n",
       "      <td>2</td>\n",
       "      <td>2020-12-04 01:46:00</td>\n",
       "      <td>2020-12-04 04:13:09</td>\n",
       "      <td>35.395484</td>\n",
       "      <td>-118.985176</td>\n",
       "      <td>35.395476</td>\n",
       "      <td>-118.985995</td>\n",
       "      <td>0.046</td>\n",
       "      <td>...</td>\n",
       "      <td>False</td>\n",
       "      <td>False</td>\n",
       "      <td>False</td>\n",
       "      <td>False</td>\n",
       "      <td>False</td>\n",
       "      <td>False</td>\n",
       "      <td>Night</td>\n",
       "      <td>Night</td>\n",
       "      <td>Night</td>\n",
       "      <td>Night</td>\n",
       "    </tr>\n",
       "  </tbody>\n",
       "</table>\n",
       "<p>5 rows × 46 columns</p>\n",
       "</div>"
      ],
      "text/plain": [
       "          ID   Source  Severity                     Start_Time  \\\n",
       "0  A-2047758  Source2         2            2019-06-12 10:10:56   \n",
       "1  A-4694324  Source1         2  2022-12-03 23:37:14.000000000   \n",
       "2  A-5006183  Source1         2  2022-08-20 13:13:00.000000000   \n",
       "3  A-4237356  Source1         2            2022-02-21 17:43:04   \n",
       "4  A-6690583  Source1         2            2020-12-04 01:46:00   \n",
       "\n",
       "                        End_Time  Start_Lat   Start_Lng    End_Lat  \\\n",
       "0            2019-06-12 10:55:58  30.641211  -91.153481        NaN   \n",
       "1  2022-12-04 01:56:53.000000000  38.990562  -77.399070  38.990037   \n",
       "2  2022-08-20 15:22:45.000000000  34.661189 -120.492822  34.661189   \n",
       "3            2022-02-21 19:43:23  43.680592  -92.993317  43.680574   \n",
       "4            2020-12-04 04:13:09  35.395484 -118.985176  35.395476   \n",
       "\n",
       "      End_Lng  Distance(mi)  ... Roundabout Station   Stop Traffic_Calming  \\\n",
       "0         NaN         0.000  ...      False   False  False           False   \n",
       "1  -77.398282         0.056  ...      False   False  False           False   \n",
       "2 -120.492442         0.022  ...      False   False  False           False   \n",
       "3  -92.972223         1.054  ...      False   False  False           False   \n",
       "4 -118.985995         0.046  ...      False   False  False           False   \n",
       "\n",
       "  Traffic_Signal Turning_Loop Sunrise_Sunset Civil_Twilight Nautical_Twilight  \\\n",
       "0           True        False            Day            Day               Day   \n",
       "1          False        False          Night          Night             Night   \n",
       "2           True        False            Day            Day               Day   \n",
       "3          False        False            Day            Day               Day   \n",
       "4          False        False          Night          Night             Night   \n",
       "\n",
       "  Astronomical_Twilight  \n",
       "0                   Day  \n",
       "1                 Night  \n",
       "2                   Day  \n",
       "3                   Day  \n",
       "4                 Night  \n",
       "\n",
       "[5 rows x 46 columns]"
      ]
     },
     "execution_count": 2,
     "metadata": {},
     "output_type": "execute_result"
    }
   ],
   "source": [
    "df = pd.read_csv('US_Accidents_March23_sampled_500k.csv')\n",
    "df.head()"
   ]
  },
  {
   "cell_type": "markdown",
   "metadata": {},
   "source": [
    "Next we take a look at all the features it has and the initial number."
   ]
  },
  {
   "cell_type": "code",
   "execution_count": 3,
   "metadata": {},
   "outputs": [
    {
     "name": "stdout",
     "output_type": "stream",
     "text": [
      "Columns: Index(['ID', 'Source', 'Severity', 'Start_Time', 'End_Time', 'Start_Lat',\n",
      "       'Start_Lng', 'End_Lat', 'End_Lng', 'Distance(mi)', 'Description',\n",
      "       'Street', 'City', 'County', 'State', 'Zipcode', 'Country', 'Timezone',\n",
      "       'Airport_Code', 'Weather_Timestamp', 'Temperature(F)', 'Wind_Chill(F)',\n",
      "       'Humidity(%)', 'Pressure(in)', 'Visibility(mi)', 'Wind_Direction',\n",
      "       'Wind_Speed(mph)', 'Precipitation(in)', 'Weather_Condition', 'Amenity',\n",
      "       'Bump', 'Crossing', 'Give_Way', 'Junction', 'No_Exit', 'Railway',\n",
      "       'Roundabout', 'Station', 'Stop', 'Traffic_Calming', 'Traffic_Signal',\n",
      "       'Turning_Loop', 'Sunrise_Sunset', 'Civil_Twilight', 'Nautical_Twilight',\n",
      "       'Astronomical_Twilight'],\n",
      "      dtype='object')\n",
      "Count: 46\n"
     ]
    }
   ],
   "source": [
    "def check_features(data):\n",
    "    print('Columns:', data.columns)\n",
    "    print('Count:', len(data.columns))\n",
    "\n",
    "check_features(df)"
   ]
  },
  {
   "cell_type": "markdown",
   "metadata": {},
   "source": [
    "We're a long way from 150+ but we can use feature engineering to work with it."
   ]
  },
  {
   "cell_type": "markdown",
   "metadata": {},
   "source": [
    "## Feature Engineering"
   ]
  },
  {
   "cell_type": "markdown",
   "metadata": {},
   "source": [
    "### Pruning\n",
    "Although we're looking to get our feature numbers up, we need to first remove features that are completely irrelevant to our project. At a glance, `ID` and `Source` are purely metadata and don't contribute any information to the accidents themselves. Therefore they can be removed from our dataset."
   ]
  },
  {
   "cell_type": "code",
   "execution_count": 4,
   "metadata": {},
   "outputs": [],
   "source": [
    "irrelevant_features = [\n",
    "    'ID',\n",
    "    'Source'\n",
    "]\n",
    "\n",
    "df.drop(columns=irrelevant_features, inplace=True)"
   ]
  },
  {
   "cell_type": "markdown",
   "metadata": {},
   "source": [
    "### One-Hot Encoding\n",
    "There's a lot of categorical columns here that need to be encoded as numerical\n",
    "so our ML models can train on our data more easily and accurately. The main way\n",
    "we will do this is with one-hot encoding, which splits the categorical columns\n",
    "into a binary column for each possible value.\n",
    "\n",
    "At a glance, some columns that should be one-hot encoded are `State`, `Timezone`, and `Weather_Condition`."
   ]
  },
  {
   "cell_type": "code",
   "execution_count": 5,
   "metadata": {},
   "outputs": [
    {
     "name": "stdout",
     "output_type": "stream",
     "text": [
      "Columns: Index(['Severity', 'Start_Time', 'End_Time', 'Start_Lat', 'Start_Lng',\n",
      "       'End_Lat', 'End_Lng', 'Distance(mi)', 'Description', 'Street',\n",
      "       ...\n",
      "       'Weather_Condition_Thunder and Hail',\n",
      "       'Weather_Condition_Thunder in the Vicinity',\n",
      "       'Weather_Condition_Thunderstorm',\n",
      "       'Weather_Condition_Thunderstorms and Rain', 'Weather_Condition_Tornado',\n",
      "       'Weather_Condition_Volcanic Ash', 'Weather_Condition_Widespread Dust',\n",
      "       'Weather_Condition_Widespread Dust / Windy',\n",
      "       'Weather_Condition_Wintry Mix', 'Weather_Condition_Wintry Mix / Windy'],\n",
      "      dtype='object', length=199)\n",
      "Count: 199\n"
     ]
    }
   ],
   "source": [
    "df = pd.get_dummies(df, columns=['State', 'Weather_Condition'])\n",
    "check_features(df)"
   ]
  },
  {
   "cell_type": "markdown",
   "metadata": {},
   "source": [
    "### Datetime\n",
    "Currently, we have start and end times encoded as `mm/dd/yyyy hh:mm:ss`. However, some timestamps have milliseconds while others do not (ex: `2022-12-03 23:37:14.000000000`). Since most of these millisecond values are just 0's, we'll just remove millisecond measures and restrict timestamp precision to just seconds.\n"
   ]
  },
  {
   "cell_type": "code",
   "execution_count": 6,
   "metadata": {},
   "outputs": [
    {
     "data": {
      "text/html": [
       "<div>\n",
       "<style scoped>\n",
       "    .dataframe tbody tr th:only-of-type {\n",
       "        vertical-align: middle;\n",
       "    }\n",
       "\n",
       "    .dataframe tbody tr th {\n",
       "        vertical-align: top;\n",
       "    }\n",
       "\n",
       "    .dataframe thead th {\n",
       "        text-align: right;\n",
       "    }\n",
       "</style>\n",
       "<table border=\"1\" class=\"dataframe\">\n",
       "  <thead>\n",
       "    <tr style=\"text-align: right;\">\n",
       "      <th></th>\n",
       "      <th>Severity</th>\n",
       "      <th>Start_Datetime</th>\n",
       "      <th>End_Datetime</th>\n",
       "      <th>Start_Lat</th>\n",
       "      <th>Start_Lng</th>\n",
       "      <th>End_Lat</th>\n",
       "      <th>End_Lng</th>\n",
       "      <th>Distance(mi)</th>\n",
       "      <th>Description</th>\n",
       "      <th>Street</th>\n",
       "      <th>...</th>\n",
       "      <th>Weather_Condition_Thunder and Hail</th>\n",
       "      <th>Weather_Condition_Thunder in the Vicinity</th>\n",
       "      <th>Weather_Condition_Thunderstorm</th>\n",
       "      <th>Weather_Condition_Thunderstorms and Rain</th>\n",
       "      <th>Weather_Condition_Tornado</th>\n",
       "      <th>Weather_Condition_Volcanic Ash</th>\n",
       "      <th>Weather_Condition_Widespread Dust</th>\n",
       "      <th>Weather_Condition_Widespread Dust / Windy</th>\n",
       "      <th>Weather_Condition_Wintry Mix</th>\n",
       "      <th>Weather_Condition_Wintry Mix / Windy</th>\n",
       "    </tr>\n",
       "  </thead>\n",
       "  <tbody>\n",
       "    <tr>\n",
       "      <th>0</th>\n",
       "      <td>2</td>\n",
       "      <td>2019-06-12 10:10:56</td>\n",
       "      <td>2019-06-12 10:55:58</td>\n",
       "      <td>30.641211</td>\n",
       "      <td>-91.153481</td>\n",
       "      <td>NaN</td>\n",
       "      <td>NaN</td>\n",
       "      <td>0.000</td>\n",
       "      <td>Accident on LA-19 Baker-Zachary Hwy at Lower Z...</td>\n",
       "      <td>Highway 19</td>\n",
       "      <td>...</td>\n",
       "      <td>False</td>\n",
       "      <td>False</td>\n",
       "      <td>False</td>\n",
       "      <td>False</td>\n",
       "      <td>False</td>\n",
       "      <td>False</td>\n",
       "      <td>False</td>\n",
       "      <td>False</td>\n",
       "      <td>False</td>\n",
       "      <td>False</td>\n",
       "    </tr>\n",
       "    <tr>\n",
       "      <th>1</th>\n",
       "      <td>2</td>\n",
       "      <td>2022-12-03 23:37:14</td>\n",
       "      <td>2022-12-04 01:56:53</td>\n",
       "      <td>38.990562</td>\n",
       "      <td>-77.399070</td>\n",
       "      <td>38.990037</td>\n",
       "      <td>-77.398282</td>\n",
       "      <td>0.056</td>\n",
       "      <td>Incident on FOREST RIDGE DR near PEPPERIDGE PL...</td>\n",
       "      <td>Forest Ridge Dr</td>\n",
       "      <td>...</td>\n",
       "      <td>False</td>\n",
       "      <td>False</td>\n",
       "      <td>False</td>\n",
       "      <td>False</td>\n",
       "      <td>False</td>\n",
       "      <td>False</td>\n",
       "      <td>False</td>\n",
       "      <td>False</td>\n",
       "      <td>False</td>\n",
       "      <td>False</td>\n",
       "    </tr>\n",
       "    <tr>\n",
       "      <th>2</th>\n",
       "      <td>2</td>\n",
       "      <td>2022-08-20 13:13:00</td>\n",
       "      <td>2022-08-20 15:22:45</td>\n",
       "      <td>34.661189</td>\n",
       "      <td>-120.492822</td>\n",
       "      <td>34.661189</td>\n",
       "      <td>-120.492442</td>\n",
       "      <td>0.022</td>\n",
       "      <td>Accident on W Central Ave from Floradale Ave t...</td>\n",
       "      <td>Floradale Ave</td>\n",
       "      <td>...</td>\n",
       "      <td>False</td>\n",
       "      <td>False</td>\n",
       "      <td>False</td>\n",
       "      <td>False</td>\n",
       "      <td>False</td>\n",
       "      <td>False</td>\n",
       "      <td>False</td>\n",
       "      <td>False</td>\n",
       "      <td>False</td>\n",
       "      <td>False</td>\n",
       "    </tr>\n",
       "    <tr>\n",
       "      <th>3</th>\n",
       "      <td>2</td>\n",
       "      <td>2022-02-21 17:43:04</td>\n",
       "      <td>2022-02-21 19:43:23</td>\n",
       "      <td>43.680592</td>\n",
       "      <td>-92.993317</td>\n",
       "      <td>43.680574</td>\n",
       "      <td>-92.972223</td>\n",
       "      <td>1.054</td>\n",
       "      <td>Incident on I-90 EB near REST AREA Drive with ...</td>\n",
       "      <td>14th St NW</td>\n",
       "      <td>...</td>\n",
       "      <td>False</td>\n",
       "      <td>False</td>\n",
       "      <td>False</td>\n",
       "      <td>False</td>\n",
       "      <td>False</td>\n",
       "      <td>False</td>\n",
       "      <td>False</td>\n",
       "      <td>False</td>\n",
       "      <td>True</td>\n",
       "      <td>False</td>\n",
       "    </tr>\n",
       "    <tr>\n",
       "      <th>4</th>\n",
       "      <td>2</td>\n",
       "      <td>2020-12-04 01:46:00</td>\n",
       "      <td>2020-12-04 04:13:09</td>\n",
       "      <td>35.395484</td>\n",
       "      <td>-118.985176</td>\n",
       "      <td>35.395476</td>\n",
       "      <td>-118.985995</td>\n",
       "      <td>0.046</td>\n",
       "      <td>RP ADV THEY LOCATED SUSP VEH OF 20002 - 726 CR...</td>\n",
       "      <td>River Blvd</td>\n",
       "      <td>...</td>\n",
       "      <td>False</td>\n",
       "      <td>False</td>\n",
       "      <td>False</td>\n",
       "      <td>False</td>\n",
       "      <td>False</td>\n",
       "      <td>False</td>\n",
       "      <td>False</td>\n",
       "      <td>False</td>\n",
       "      <td>False</td>\n",
       "      <td>False</td>\n",
       "    </tr>\n",
       "  </tbody>\n",
       "</table>\n",
       "<p>5 rows × 199 columns</p>\n",
       "</div>"
      ],
      "text/plain": [
       "   Severity       Start_Datetime         End_Datetime  Start_Lat   Start_Lng  \\\n",
       "0         2  2019-06-12 10:10:56  2019-06-12 10:55:58  30.641211  -91.153481   \n",
       "1         2  2022-12-03 23:37:14  2022-12-04 01:56:53  38.990562  -77.399070   \n",
       "2         2  2022-08-20 13:13:00  2022-08-20 15:22:45  34.661189 -120.492822   \n",
       "3         2  2022-02-21 17:43:04  2022-02-21 19:43:23  43.680592  -92.993317   \n",
       "4         2  2020-12-04 01:46:00  2020-12-04 04:13:09  35.395484 -118.985176   \n",
       "\n",
       "     End_Lat     End_Lng  Distance(mi)  \\\n",
       "0        NaN         NaN         0.000   \n",
       "1  38.990037  -77.398282         0.056   \n",
       "2  34.661189 -120.492442         0.022   \n",
       "3  43.680574  -92.972223         1.054   \n",
       "4  35.395476 -118.985995         0.046   \n",
       "\n",
       "                                         Description            Street  ...  \\\n",
       "0  Accident on LA-19 Baker-Zachary Hwy at Lower Z...        Highway 19  ...   \n",
       "1  Incident on FOREST RIDGE DR near PEPPERIDGE PL...   Forest Ridge Dr  ...   \n",
       "2  Accident on W Central Ave from Floradale Ave t...     Floradale Ave  ...   \n",
       "3  Incident on I-90 EB near REST AREA Drive with ...        14th St NW  ...   \n",
       "4  RP ADV THEY LOCATED SUSP VEH OF 20002 - 726 CR...        River Blvd  ...   \n",
       "\n",
       "  Weather_Condition_Thunder and Hail  \\\n",
       "0                              False   \n",
       "1                              False   \n",
       "2                              False   \n",
       "3                              False   \n",
       "4                              False   \n",
       "\n",
       "  Weather_Condition_Thunder in the Vicinity Weather_Condition_Thunderstorm  \\\n",
       "0                                     False                          False   \n",
       "1                                     False                          False   \n",
       "2                                     False                          False   \n",
       "3                                     False                          False   \n",
       "4                                     False                          False   \n",
       "\n",
       "  Weather_Condition_Thunderstorms and Rain Weather_Condition_Tornado  \\\n",
       "0                                    False                     False   \n",
       "1                                    False                     False   \n",
       "2                                    False                     False   \n",
       "3                                    False                     False   \n",
       "4                                    False                     False   \n",
       "\n",
       "  Weather_Condition_Volcanic Ash Weather_Condition_Widespread Dust  \\\n",
       "0                          False                             False   \n",
       "1                          False                             False   \n",
       "2                          False                             False   \n",
       "3                          False                             False   \n",
       "4                          False                             False   \n",
       "\n",
       "   Weather_Condition_Widespread Dust / Windy  Weather_Condition_Wintry Mix  \\\n",
       "0                                      False                         False   \n",
       "1                                      False                         False   \n",
       "2                                      False                         False   \n",
       "3                                      False                          True   \n",
       "4                                      False                         False   \n",
       "\n",
       "   Weather_Condition_Wintry Mix / Windy  \n",
       "0                                 False  \n",
       "1                                 False  \n",
       "2                                 False  \n",
       "3                                 False  \n",
       "4                                 False  \n",
       "\n",
       "[5 rows x 199 columns]"
      ]
     },
     "execution_count": 6,
     "metadata": {},
     "output_type": "execute_result"
    }
   ],
   "source": [
    "df.rename(columns={'Start_Time': 'Start_Datetime', 'End_Time': 'End_Datetime'}, inplace=True)\n",
    "\n",
    "def remove_milliseconds(datetime_str):\n",
    "    if '.' in datetime_str:\n",
    "        datetime_str = datetime_str.split('.')[0]\n",
    "    return datetime_str\n",
    "\n",
    "df['Start_Datetime'] = [remove_milliseconds(time) for time in df['Start_Datetime']]\n",
    "df['End_Datetime'] = [remove_milliseconds(time) for time in df['End_Datetime']]\n",
    "\n",
    "df.head()"
   ]
  },
  {
   "cell_type": "markdown",
   "metadata": {},
   "source": [
    "Next, we will split off date and time into their own features to make it easier for analysis, especially since we care a lot more about time than date."
   ]
  },
  {
   "cell_type": "code",
   "execution_count": 7,
   "metadata": {},
   "outputs": [],
   "source": [
    "def get_date(datetime_str):\n",
    "    return datetime_str.split()[0]\n",
    "\n",
    "def get_time(datetime_str):\n",
    "    return datetime_str.split()[1]\n",
    "\n",
    "df['Start_Date'] = [get_date(datetime_str) for datetime_str in df['Start_Datetime']]\n",
    "df['Start_Time'] = [get_time(datetime_str) for datetime_str in df['Start_Datetime']]\n",
    "df['End_Date'] = [get_date(datetime_str) for datetime_str in df['End_Datetime']]\n",
    "df['End_Time'] = [get_time(datetime_str) for datetime_str in df['End_Datetime']]"
   ]
  },
  {
   "cell_type": "markdown",
   "metadata": {},
   "source": [
    "Finally, we can calculate the elapsed time and encode it in a new feature as well."
   ]
  },
  {
   "cell_type": "code",
   "execution_count": 8,
   "metadata": {},
   "outputs": [],
   "source": [
    "def calculate_elapsed_time(start_times, end_times, time_format='%Y-%m-%d %H:%M:%S'):\n",
    "    elapsed_times = []\n",
    "    for start, end in zip(start_times, start_times):\n",
    "        start_dt = datetime.strptime(start, time_format)\n",
    "        end_dt = datetime.strptime(end, time_format)\n",
    "        elapsed_times.append(abs(end_dt - start_dt))\n",
    "    return pd.Series(elapsed_times)\n",
    "\n",
    "df['Elapsesd_Time'] = calculate_elapsed_time(df['Start_Datetime'], df['End_Datetime'])"
   ]
  },
  {
   "cell_type": "markdown",
   "metadata": {},
   "source": [
    "Another feature we can encode is if the traffic accident ocurred on a weekday or weekend. We will check only the start date since we are most concerned with the moment the accident occurred."
   ]
  },
  {
   "cell_type": "code",
   "execution_count": 9,
   "metadata": {},
   "outputs": [
    {
     "data": {
      "text/html": [
       "<div>\n",
       "<style scoped>\n",
       "    .dataframe tbody tr th:only-of-type {\n",
       "        vertical-align: middle;\n",
       "    }\n",
       "\n",
       "    .dataframe tbody tr th {\n",
       "        vertical-align: top;\n",
       "    }\n",
       "\n",
       "    .dataframe thead th {\n",
       "        text-align: right;\n",
       "    }\n",
       "</style>\n",
       "<table border=\"1\" class=\"dataframe\">\n",
       "  <thead>\n",
       "    <tr style=\"text-align: right;\">\n",
       "      <th></th>\n",
       "      <th>Severity</th>\n",
       "      <th>Start_Datetime</th>\n",
       "      <th>End_Datetime</th>\n",
       "      <th>Start_Lat</th>\n",
       "      <th>Start_Lng</th>\n",
       "      <th>End_Lat</th>\n",
       "      <th>End_Lng</th>\n",
       "      <th>Distance(mi)</th>\n",
       "      <th>Description</th>\n",
       "      <th>Street</th>\n",
       "      <th>...</th>\n",
       "      <th>Weather_Condition_Widespread Dust</th>\n",
       "      <th>Weather_Condition_Widespread Dust / Windy</th>\n",
       "      <th>Weather_Condition_Wintry Mix</th>\n",
       "      <th>Weather_Condition_Wintry Mix / Windy</th>\n",
       "      <th>Start_Date</th>\n",
       "      <th>Start_Time</th>\n",
       "      <th>End_Date</th>\n",
       "      <th>End_Time</th>\n",
       "      <th>Elapsesd_Time</th>\n",
       "      <th>Is_Weekend</th>\n",
       "    </tr>\n",
       "  </thead>\n",
       "  <tbody>\n",
       "    <tr>\n",
       "      <th>0</th>\n",
       "      <td>2</td>\n",
       "      <td>2019-06-12 10:10:56</td>\n",
       "      <td>2019-06-12 10:55:58</td>\n",
       "      <td>30.641211</td>\n",
       "      <td>-91.153481</td>\n",
       "      <td>NaN</td>\n",
       "      <td>NaN</td>\n",
       "      <td>0.000</td>\n",
       "      <td>Accident on LA-19 Baker-Zachary Hwy at Lower Z...</td>\n",
       "      <td>Highway 19</td>\n",
       "      <td>...</td>\n",
       "      <td>False</td>\n",
       "      <td>False</td>\n",
       "      <td>False</td>\n",
       "      <td>False</td>\n",
       "      <td>2019-06-12</td>\n",
       "      <td>10:10:56</td>\n",
       "      <td>2019-06-12</td>\n",
       "      <td>10:55:58</td>\n",
       "      <td>0 days</td>\n",
       "      <td>False</td>\n",
       "    </tr>\n",
       "    <tr>\n",
       "      <th>1</th>\n",
       "      <td>2</td>\n",
       "      <td>2022-12-03 23:37:14</td>\n",
       "      <td>2022-12-04 01:56:53</td>\n",
       "      <td>38.990562</td>\n",
       "      <td>-77.399070</td>\n",
       "      <td>38.990037</td>\n",
       "      <td>-77.398282</td>\n",
       "      <td>0.056</td>\n",
       "      <td>Incident on FOREST RIDGE DR near PEPPERIDGE PL...</td>\n",
       "      <td>Forest Ridge Dr</td>\n",
       "      <td>...</td>\n",
       "      <td>False</td>\n",
       "      <td>False</td>\n",
       "      <td>False</td>\n",
       "      <td>False</td>\n",
       "      <td>2022-12-03</td>\n",
       "      <td>23:37:14</td>\n",
       "      <td>2022-12-04</td>\n",
       "      <td>01:56:53</td>\n",
       "      <td>0 days</td>\n",
       "      <td>True</td>\n",
       "    </tr>\n",
       "    <tr>\n",
       "      <th>2</th>\n",
       "      <td>2</td>\n",
       "      <td>2022-08-20 13:13:00</td>\n",
       "      <td>2022-08-20 15:22:45</td>\n",
       "      <td>34.661189</td>\n",
       "      <td>-120.492822</td>\n",
       "      <td>34.661189</td>\n",
       "      <td>-120.492442</td>\n",
       "      <td>0.022</td>\n",
       "      <td>Accident on W Central Ave from Floradale Ave t...</td>\n",
       "      <td>Floradale Ave</td>\n",
       "      <td>...</td>\n",
       "      <td>False</td>\n",
       "      <td>False</td>\n",
       "      <td>False</td>\n",
       "      <td>False</td>\n",
       "      <td>2022-08-20</td>\n",
       "      <td>13:13:00</td>\n",
       "      <td>2022-08-20</td>\n",
       "      <td>15:22:45</td>\n",
       "      <td>0 days</td>\n",
       "      <td>True</td>\n",
       "    </tr>\n",
       "    <tr>\n",
       "      <th>3</th>\n",
       "      <td>2</td>\n",
       "      <td>2022-02-21 17:43:04</td>\n",
       "      <td>2022-02-21 19:43:23</td>\n",
       "      <td>43.680592</td>\n",
       "      <td>-92.993317</td>\n",
       "      <td>43.680574</td>\n",
       "      <td>-92.972223</td>\n",
       "      <td>1.054</td>\n",
       "      <td>Incident on I-90 EB near REST AREA Drive with ...</td>\n",
       "      <td>14th St NW</td>\n",
       "      <td>...</td>\n",
       "      <td>False</td>\n",
       "      <td>False</td>\n",
       "      <td>True</td>\n",
       "      <td>False</td>\n",
       "      <td>2022-02-21</td>\n",
       "      <td>17:43:04</td>\n",
       "      <td>2022-02-21</td>\n",
       "      <td>19:43:23</td>\n",
       "      <td>0 days</td>\n",
       "      <td>False</td>\n",
       "    </tr>\n",
       "    <tr>\n",
       "      <th>4</th>\n",
       "      <td>2</td>\n",
       "      <td>2020-12-04 01:46:00</td>\n",
       "      <td>2020-12-04 04:13:09</td>\n",
       "      <td>35.395484</td>\n",
       "      <td>-118.985176</td>\n",
       "      <td>35.395476</td>\n",
       "      <td>-118.985995</td>\n",
       "      <td>0.046</td>\n",
       "      <td>RP ADV THEY LOCATED SUSP VEH OF 20002 - 726 CR...</td>\n",
       "      <td>River Blvd</td>\n",
       "      <td>...</td>\n",
       "      <td>False</td>\n",
       "      <td>False</td>\n",
       "      <td>False</td>\n",
       "      <td>False</td>\n",
       "      <td>2020-12-04</td>\n",
       "      <td>01:46:00</td>\n",
       "      <td>2020-12-04</td>\n",
       "      <td>04:13:09</td>\n",
       "      <td>0 days</td>\n",
       "      <td>False</td>\n",
       "    </tr>\n",
       "  </tbody>\n",
       "</table>\n",
       "<p>5 rows × 205 columns</p>\n",
       "</div>"
      ],
      "text/plain": [
       "   Severity       Start_Datetime         End_Datetime  Start_Lat   Start_Lng  \\\n",
       "0         2  2019-06-12 10:10:56  2019-06-12 10:55:58  30.641211  -91.153481   \n",
       "1         2  2022-12-03 23:37:14  2022-12-04 01:56:53  38.990562  -77.399070   \n",
       "2         2  2022-08-20 13:13:00  2022-08-20 15:22:45  34.661189 -120.492822   \n",
       "3         2  2022-02-21 17:43:04  2022-02-21 19:43:23  43.680592  -92.993317   \n",
       "4         2  2020-12-04 01:46:00  2020-12-04 04:13:09  35.395484 -118.985176   \n",
       "\n",
       "     End_Lat     End_Lng  Distance(mi)  \\\n",
       "0        NaN         NaN         0.000   \n",
       "1  38.990037  -77.398282         0.056   \n",
       "2  34.661189 -120.492442         0.022   \n",
       "3  43.680574  -92.972223         1.054   \n",
       "4  35.395476 -118.985995         0.046   \n",
       "\n",
       "                                         Description            Street  ...  \\\n",
       "0  Accident on LA-19 Baker-Zachary Hwy at Lower Z...        Highway 19  ...   \n",
       "1  Incident on FOREST RIDGE DR near PEPPERIDGE PL...   Forest Ridge Dr  ...   \n",
       "2  Accident on W Central Ave from Floradale Ave t...     Floradale Ave  ...   \n",
       "3  Incident on I-90 EB near REST AREA Drive with ...        14th St NW  ...   \n",
       "4  RP ADV THEY LOCATED SUSP VEH OF 20002 - 726 CR...        River Blvd  ...   \n",
       "\n",
       "  Weather_Condition_Widespread Dust Weather_Condition_Widespread Dust / Windy  \\\n",
       "0                             False                                     False   \n",
       "1                             False                                     False   \n",
       "2                             False                                     False   \n",
       "3                             False                                     False   \n",
       "4                             False                                     False   \n",
       "\n",
       "  Weather_Condition_Wintry Mix Weather_Condition_Wintry Mix / Windy  \\\n",
       "0                        False                                False   \n",
       "1                        False                                False   \n",
       "2                        False                                False   \n",
       "3                         True                                False   \n",
       "4                        False                                False   \n",
       "\n",
       "   Start_Date Start_Time    End_Date  End_Time  Elapsesd_Time  Is_Weekend  \n",
       "0  2019-06-12   10:10:56  2019-06-12  10:55:58         0 days       False  \n",
       "1  2022-12-03   23:37:14  2022-12-04  01:56:53         0 days        True  \n",
       "2  2022-08-20   13:13:00  2022-08-20  15:22:45         0 days        True  \n",
       "3  2022-02-21   17:43:04  2022-02-21  19:43:23         0 days       False  \n",
       "4  2020-12-04   01:46:00  2020-12-04  04:13:09         0 days       False  \n",
       "\n",
       "[5 rows x 205 columns]"
      ]
     },
     "execution_count": 9,
     "metadata": {},
     "output_type": "execute_result"
    }
   ],
   "source": [
    "df['Is_Weekend'] = pd.to_datetime(df['Start_Date']).dt.weekday >= 5\n",
    "df.head()"
   ]
  },
  {
   "cell_type": "markdown",
   "metadata": {},
   "source": [
    "### Final Feature Count\n",
    "Taking a look at our final feature count, we have:"
   ]
  },
  {
   "cell_type": "code",
   "execution_count": 10,
   "metadata": {},
   "outputs": [
    {
     "name": "stdout",
     "output_type": "stream",
     "text": [
      "Columns: Index(['Severity', 'Start_Datetime', 'End_Datetime', 'Start_Lat', 'Start_Lng',\n",
      "       'End_Lat', 'End_Lng', 'Distance(mi)', 'Description', 'Street',\n",
      "       ...\n",
      "       'Weather_Condition_Widespread Dust',\n",
      "       'Weather_Condition_Widespread Dust / Windy',\n",
      "       'Weather_Condition_Wintry Mix', 'Weather_Condition_Wintry Mix / Windy',\n",
      "       'Start_Date', 'Start_Time', 'End_Date', 'End_Time', 'Elapsesd_Time',\n",
      "       'Is_Weekend'],\n",
      "      dtype='object', length=205)\n",
      "Count: 205\n"
     ]
    }
   ],
   "source": [
    "check_features(df)"
   ]
  },
  {
   "cell_type": "markdown",
   "metadata": {},
   "source": [
    "## Numerical Analysis"
   ]
  },
  {
   "cell_type": "code",
   "execution_count": 11,
   "metadata": {},
   "outputs": [
    {
     "data": {
      "image/png": "[encoded data removed]",
      "text/plain": [
       "<Figure size 1000x800 with 2 Axes>"
      ]
     },
     "metadata": {},
     "output_type": "display_data"
    }
   ],
   "source": [
    "# Select only numeric columns for correlation\n",
    "unfiltered_numeric_df = df.select_dtypes(include=[float, int])\n",
    "numeric_df = unfiltered_numeric_df.drop(['Start_Lat', 'Start_Lng', 'End_Lat', 'End_Lng'], axis=1) #removing unwanted numerical features\n",
    "\n",
    "\n",
    "corr_matrix = numeric_df.corr()\n",
    "import matplotlib.pyplot as plt\n",
    "import seaborn as sns\n",
    "plt.figure(figsize=(10, 8))\n",
    "sns.heatmap(corr_matrix, annot=True, cmap='coolwarm')\n",
    "plt.title(\"Correlation Matrix of Numeric Features\")\n",
    "plt.show()\n"
   ]
  },
  {
   "cell_type": "code",
   "execution_count": 12,
   "metadata": {},
   "outputs": [
    {
     "data": {
      "text/html": [
       "<div>\n",
       "<style scoped>\n",
       "    .dataframe tbody tr th:only-of-type {\n",
       "        vertical-align: middle;\n",
       "    }\n",
       "\n",
       "    .dataframe tbody tr th {\n",
       "        vertical-align: top;\n",
       "    }\n",
       "\n",
       "    .dataframe thead th {\n",
       "        text-align: right;\n",
       "    }\n",
       "</style>\n",
       "<table border=\"1\" class=\"dataframe\">\n",
       "  <thead>\n",
       "    <tr style=\"text-align: right;\">\n",
       "      <th></th>\n",
       "      <th>Severity</th>\n",
       "      <th>Start_Lat</th>\n",
       "      <th>Start_Lng</th>\n",
       "      <th>End_Lat</th>\n",
       "      <th>End_Lng</th>\n",
       "      <th>Distance(mi)</th>\n",
       "      <th>Temperature(F)</th>\n",
       "      <th>Wind_Chill(F)</th>\n",
       "      <th>Humidity(%)</th>\n",
       "      <th>Pressure(in)</th>\n",
       "      <th>Visibility(mi)</th>\n",
       "      <th>Wind_Speed(mph)</th>\n",
       "      <th>Precipitation(in)</th>\n",
       "    </tr>\n",
       "  </thead>\n",
       "  <tbody>\n",
       "    <tr>\n",
       "      <th>0</th>\n",
       "      <td>2</td>\n",
       "      <td>30.641211</td>\n",
       "      <td>-91.153481</td>\n",
       "      <td>NaN</td>\n",
       "      <td>NaN</td>\n",
       "      <td>0.000</td>\n",
       "      <td>77.0</td>\n",
       "      <td>77.0</td>\n",
       "      <td>62.0</td>\n",
       "      <td>29.92</td>\n",
       "      <td>10.0</td>\n",
       "      <td>5.0</td>\n",
       "      <td>0.00</td>\n",
       "    </tr>\n",
       "    <tr>\n",
       "      <th>1</th>\n",
       "      <td>2</td>\n",
       "      <td>38.990562</td>\n",
       "      <td>-77.399070</td>\n",
       "      <td>38.990037</td>\n",
       "      <td>-77.398282</td>\n",
       "      <td>0.056</td>\n",
       "      <td>45.0</td>\n",
       "      <td>43.0</td>\n",
       "      <td>48.0</td>\n",
       "      <td>29.91</td>\n",
       "      <td>10.0</td>\n",
       "      <td>5.0</td>\n",
       "      <td>0.00</td>\n",
       "    </tr>\n",
       "    <tr>\n",
       "      <th>2</th>\n",
       "      <td>2</td>\n",
       "      <td>34.661189</td>\n",
       "      <td>-120.492822</td>\n",
       "      <td>34.661189</td>\n",
       "      <td>-120.492442</td>\n",
       "      <td>0.022</td>\n",
       "      <td>68.0</td>\n",
       "      <td>68.0</td>\n",
       "      <td>73.0</td>\n",
       "      <td>29.79</td>\n",
       "      <td>10.0</td>\n",
       "      <td>13.0</td>\n",
       "      <td>0.00</td>\n",
       "    </tr>\n",
       "    <tr>\n",
       "      <th>3</th>\n",
       "      <td>2</td>\n",
       "      <td>43.680592</td>\n",
       "      <td>-92.993317</td>\n",
       "      <td>43.680574</td>\n",
       "      <td>-92.972223</td>\n",
       "      <td>1.054</td>\n",
       "      <td>27.0</td>\n",
       "      <td>15.0</td>\n",
       "      <td>86.0</td>\n",
       "      <td>28.49</td>\n",
       "      <td>10.0</td>\n",
       "      <td>15.0</td>\n",
       "      <td>0.00</td>\n",
       "    </tr>\n",
       "    <tr>\n",
       "      <th>4</th>\n",
       "      <td>2</td>\n",
       "      <td>35.395484</td>\n",
       "      <td>-118.985176</td>\n",
       "      <td>35.395476</td>\n",
       "      <td>-118.985995</td>\n",
       "      <td>0.046</td>\n",
       "      <td>42.0</td>\n",
       "      <td>42.0</td>\n",
       "      <td>34.0</td>\n",
       "      <td>29.77</td>\n",
       "      <td>10.0</td>\n",
       "      <td>0.0</td>\n",
       "      <td>0.00</td>\n",
       "    </tr>\n",
       "    <tr>\n",
       "      <th>...</th>\n",
       "      <td>...</td>\n",
       "      <td>...</td>\n",
       "      <td>...</td>\n",
       "      <td>...</td>\n",
       "      <td>...</td>\n",
       "      <td>...</td>\n",
       "      <td>...</td>\n",
       "      <td>...</td>\n",
       "      <td>...</td>\n",
       "      <td>...</td>\n",
       "      <td>...</td>\n",
       "      <td>...</td>\n",
       "      <td>...</td>\n",
       "    </tr>\n",
       "    <tr>\n",
       "      <th>499995</th>\n",
       "      <td>2</td>\n",
       "      <td>45.522510</td>\n",
       "      <td>-123.084104</td>\n",
       "      <td>45.520225</td>\n",
       "      <td>-123.084211</td>\n",
       "      <td>0.158</td>\n",
       "      <td>40.0</td>\n",
       "      <td>32.0</td>\n",
       "      <td>77.0</td>\n",
       "      <td>29.55</td>\n",
       "      <td>10.0</td>\n",
       "      <td>15.0</td>\n",
       "      <td>0.01</td>\n",
       "    </tr>\n",
       "    <tr>\n",
       "      <th>499996</th>\n",
       "      <td>2</td>\n",
       "      <td>26.702570</td>\n",
       "      <td>-80.111169</td>\n",
       "      <td>26.703141</td>\n",
       "      <td>-80.111133</td>\n",
       "      <td>0.040</td>\n",
       "      <td>78.0</td>\n",
       "      <td>78.0</td>\n",
       "      <td>87.0</td>\n",
       "      <td>29.94</td>\n",
       "      <td>10.0</td>\n",
       "      <td>13.0</td>\n",
       "      <td>0.01</td>\n",
       "    </tr>\n",
       "    <tr>\n",
       "      <th>499997</th>\n",
       "      <td>2</td>\n",
       "      <td>34.561862</td>\n",
       "      <td>-112.259620</td>\n",
       "      <td>34.566822</td>\n",
       "      <td>-112.267150</td>\n",
       "      <td>0.549</td>\n",
       "      <td>52.0</td>\n",
       "      <td>52.0</td>\n",
       "      <td>12.0</td>\n",
       "      <td>24.94</td>\n",
       "      <td>10.0</td>\n",
       "      <td>12.0</td>\n",
       "      <td>0.00</td>\n",
       "    </tr>\n",
       "    <tr>\n",
       "      <th>499998</th>\n",
       "      <td>3</td>\n",
       "      <td>38.406680</td>\n",
       "      <td>-78.619310</td>\n",
       "      <td>38.406680</td>\n",
       "      <td>-78.619310</td>\n",
       "      <td>0.000</td>\n",
       "      <td>82.0</td>\n",
       "      <td>82.0</td>\n",
       "      <td>38.0</td>\n",
       "      <td>28.70</td>\n",
       "      <td>10.0</td>\n",
       "      <td>14.0</td>\n",
       "      <td>0.00</td>\n",
       "    </tr>\n",
       "    <tr>\n",
       "      <th>499999</th>\n",
       "      <td>2</td>\n",
       "      <td>35.069358</td>\n",
       "      <td>-85.234410</td>\n",
       "      <td>35.070505</td>\n",
       "      <td>-85.233836</td>\n",
       "      <td>0.086</td>\n",
       "      <td>50.0</td>\n",
       "      <td>50.0</td>\n",
       "      <td>66.0</td>\n",
       "      <td>29.29</td>\n",
       "      <td>10.0</td>\n",
       "      <td>0.0</td>\n",
       "      <td>0.00</td>\n",
       "    </tr>\n",
       "  </tbody>\n",
       "</table>\n",
       "<p>500000 rows × 13 columns</p>\n",
       "</div>"
      ],
      "text/plain": [
       "        Severity  Start_Lat   Start_Lng    End_Lat     End_Lng  Distance(mi)  \\\n",
       "0              2  30.641211  -91.153481        NaN         NaN         0.000   \n",
       "1              2  38.990562  -77.399070  38.990037  -77.398282         0.056   \n",
       "2              2  34.661189 -120.492822  34.661189 -120.492442         0.022   \n",
       "3              2  43.680592  -92.993317  43.680574  -92.972223         1.054   \n",
       "4              2  35.395484 -118.985176  35.395476 -118.985995         0.046   \n",
       "...          ...        ...         ...        ...         ...           ...   \n",
       "499995         2  45.522510 -123.084104  45.520225 -123.084211         0.158   \n",
       "499996         2  26.702570  -80.111169  26.703141  -80.111133         0.040   \n",
       "499997         2  34.561862 -112.259620  34.566822 -112.267150         0.549   \n",
       "499998         3  38.406680  -78.619310  38.406680  -78.619310         0.000   \n",
       "499999         2  35.069358  -85.234410  35.070505  -85.233836         0.086   \n",
       "\n",
       "        Temperature(F)  Wind_Chill(F)  Humidity(%)  Pressure(in)  \\\n",
       "0                 77.0           77.0         62.0         29.92   \n",
       "1                 45.0           43.0         48.0         29.91   \n",
       "2                 68.0           68.0         73.0         29.79   \n",
       "3                 27.0           15.0         86.0         28.49   \n",
       "4                 42.0           42.0         34.0         29.77   \n",
       "...                ...            ...          ...           ...   \n",
       "499995            40.0           32.0         77.0         29.55   \n",
       "499996            78.0           78.0         87.0         29.94   \n",
       "499997            52.0           52.0         12.0         24.94   \n",
       "499998            82.0           82.0         38.0         28.70   \n",
       "499999            50.0           50.0         66.0         29.29   \n",
       "\n",
       "        Visibility(mi)  Wind_Speed(mph)  Precipitation(in)  \n",
       "0                 10.0              5.0               0.00  \n",
       "1                 10.0              5.0               0.00  \n",
       "2                 10.0             13.0               0.00  \n",
       "3                 10.0             15.0               0.00  \n",
       "4                 10.0              0.0               0.00  \n",
       "...                ...              ...                ...  \n",
       "499995            10.0             15.0               0.01  \n",
       "499996            10.0             13.0               0.01  \n",
       "499997            10.0             12.0               0.00  \n",
       "499998            10.0             14.0               0.00  \n",
       "499999            10.0              0.0               0.00  \n",
       "\n",
       "[500000 rows x 13 columns]"
      ]
     },
     "execution_count": 12,
     "metadata": {},
     "output_type": "execute_result"
    }
   ],
   "source": [
    "unfiltered_numeric_df "
   ]
  },
  {
   "cell_type": "code",
   "execution_count": 13,
   "metadata": {},
   "outputs": [],
   "source": [
    "from datetime import datetime\n",
    "\n",
    "def calculate_elapsed_time(start_times, end_times, time_format='%Y-%m-%d %H:%M:%S'):\n",
    "    elapsed_times = []\n",
    "    for start, end in zip(start_times, end_times):\n",
    "        try:\n",
    "            start_dt = datetime.strptime(start, time_format)\n",
    "            end_dt = datetime.strptime(end, time_format)\n",
    "            elapsed_time = (end_dt - start_dt).total_seconds() / 60  # Convert to minutes\n",
    "            elapsed_times.append(elapsed_time)\n",
    "        except Exception as e:\n",
    "            elapsed_times.append(None) \n",
    "    return pd.Series(elapsed_times)\n",
    "\n",
    "\n",
    "if 'Start_Datetime' in df.columns and 'End_Datetime' in df.columns:\n",
    "    df['Elapsed_Time'] = calculate_elapsed_time(df['Start_Datetime'], df['End_Datetime'])\n",
    "else:\n",
    "    print(\"Error: 'Start_Datetime' or 'End_Datetime' column is missing in the DataFrame.\")\n"
   ]
  },
  {
   "cell_type": "code",
   "execution_count": 14,
   "metadata": {},
   "outputs": [
    {
     "name": "stdout",
     "output_type": "stream",
     "text": [
      "        Start_Datetime         End_Datetime  Elapsed_Time\n",
      "0  2019-06-12 10:10:56  2019-06-12 10:55:58     45.033333\n",
      "1  2022-12-03 23:37:14  2022-12-04 01:56:53    139.650000\n",
      "2  2022-08-20 13:13:00  2022-08-20 15:22:45    129.750000\n",
      "3  2022-02-21 17:43:04  2022-02-21 19:43:23    120.316667\n",
      "4  2020-12-04 01:46:00  2020-12-04 04:13:09    147.150000\n"
     ]
    }
   ],
   "source": [
    "print(df[['Start_Datetime', 'End_Datetime', 'Elapsed_Time']].head())\n"
   ]
  },
  {
   "cell_type": "markdown",
   "metadata": {},
   "source": [
    "## Visualization"
   ]
  },
  {
   "cell_type": "code",
   "execution_count": 15,
   "metadata": {},
   "outputs": [
    {
     "name": "stderr",
     "output_type": "stream",
     "text": [
      "/Users/kshitizdhakal/anaconda3/lib/python3.11/site-packages/seaborn/_oldcore.py:1119: FutureWarning: use_inf_as_na option is deprecated and will be removed in a future version. Convert inf values to NaN before operating instead.\n",
      "  with pd.option_context('mode.use_inf_as_na', True):\n"
     ]
    },
    {
     "data": {
      "image/png": "[encoded data removed]",
      "text/plain": [
       "<Figure size 1200x600 with 1 Axes>"
      ]
     },
     "metadata": {},
     "output_type": "display_data"
    }
   ],
   "source": [
    "df['Hour'] = pd.to_datetime(df['Start_Datetime']).dt.hour\n",
    "plt.figure(figsize=(12, 6))\n",
    "sns.histplot(df['Hour'], bins=24, kde=True)\n",
    "plt.title(\"Accident Counts by Hour of Day\")\n",
    "plt.xlabel(\"Hour of Day\")\n",
    "plt.ylabel(\"Accident Count\")\n",
    "plt.show()"
   ]
  },
  {
   "cell_type": "code",
   "execution_count": 16,
   "metadata": {},
   "outputs": [
    {
     "data": {
      "image/png": "[encoded data removed]",
      "text/plain": [
       "<Figure size 1000x500 with 1 Axes>"
      ]
     },
     "metadata": {},
     "output_type": "display_data"
    }
   ],
   "source": [
    "df['Day_of_Week'] = pd.to_datetime(df['Start_Date']).dt.day_name()\n",
    "plt.figure(figsize=(10, 5))\n",
    "sns.countplot(data=df, x='Day_of_Week', order=['Monday', 'Tuesday', 'Wednesday', 'Thursday', 'Friday', 'Saturday', 'Sunday'])\n",
    "plt.title(\"Accident Counts by Day of the Week\")\n",
    "plt.show()"
   ]
  },
  {
   "cell_type": "markdown",
   "metadata": {},
   "source": [
    "## Ml of severity classes according to different relevant features"
   ]
  },
  {
   "cell_type": "markdown",
   "metadata": {},
   "source": [
    "# Humidity and Severity"
   ]
  },
  {
   "cell_type": "code",
   "execution_count": 26,
   "metadata": {
    "scrolled": true
   },
   "outputs": [
    {
     "name": "stdout",
     "output_type": "stream",
     "text": [
      "Classification Report of Humidity and Severity:\n",
      "              precision    recall  f1-score   support\n",
      "\n",
      "           1       0.00      0.00      0.00       792\n",
      "           2       0.85      1.00      0.92     57966\n",
      "           3       0.00      0.00      0.00      7517\n",
      "           4       0.00      0.00      0.00      1628\n",
      "\n",
      "    accuracy                           0.85     67903\n",
      "   macro avg       0.21      0.25      0.23     67903\n",
      "weighted avg       0.73      0.85      0.79     67903\n",
      "\n"
     ]
    },
    {
     "name": "stderr",
     "output_type": "stream",
     "text": [
      "/Users/kshitizdhakal/anaconda3/lib/python3.11/site-packages/sklearn/metrics/_classification.py:1344: UndefinedMetricWarning: Precision and F-score are ill-defined and being set to 0.0 in labels with no predicted samples. Use `zero_division` parameter to control this behavior.\n",
      "  _warn_prf(average, modifier, msg_start, len(result))\n",
      "/Users/kshitizdhakal/anaconda3/lib/python3.11/site-packages/sklearn/metrics/_classification.py:1344: UndefinedMetricWarning: Precision and F-score are ill-defined and being set to 0.0 in labels with no predicted samples. Use `zero_division` parameter to control this behavior.\n",
      "  _warn_prf(average, modifier, msg_start, len(result))\n",
      "/Users/kshitizdhakal/anaconda3/lib/python3.11/site-packages/sklearn/metrics/_classification.py:1344: UndefinedMetricWarning: Precision and F-score are ill-defined and being set to 0.0 in labels with no predicted samples. Use `zero_division` parameter to control this behavior.\n",
      "  _warn_prf(average, modifier, msg_start, len(result))\n"
     ]
    }
   ],
   "source": [
    "df = df.dropna(subset=['Humidity(%)', 'Severity'])\n",
    "\n",
    "X = df[['Humidity(%)']] # We can change the feature and target variables according to our purpose\n",
    "y = df['Severity']\n",
    "\n",
    "X_train, X_test, y_train, y_test = train_test_split(X, y, test_size=0.2, random_state=42)\n",
    "model = LogisticRegression(max_iter=100)\n",
    "model.fit(X_train, y_train)\n",
    "\n",
    "# Predictions and evaluation\n",
    "y_pred = model.predict(X_test)\n",
    "print(\"Classification Report of Humidity and Severity:\")\n",
    "print(classification_report(y_test, y_pred))\n"
   ]
  },
  {
   "cell_type": "markdown",
   "metadata": {},
   "source": [
    "# Visibility and Severity"
   ]
  },
  {
   "cell_type": "code",
   "execution_count": 27,
   "metadata": {},
   "outputs": [
    {
     "name": "stdout",
     "output_type": "stream",
     "text": [
      "Classification Report of Visibility and Severity:\n",
      "              precision    recall  f1-score   support\n",
      "\n",
      "           1       0.00      0.00      0.00       792\n",
      "           2       0.85      1.00      0.92     57966\n",
      "           3       0.00      0.00      0.00      7517\n",
      "           4       0.00      0.00      0.00      1628\n",
      "\n",
      "    accuracy                           0.85     67903\n",
      "   macro avg       0.21      0.25      0.23     67903\n",
      "weighted avg       0.73      0.85      0.79     67903\n",
      "\n"
     ]
    },
    {
     "name": "stderr",
     "output_type": "stream",
     "text": [
      "/Users/kshitizdhakal/anaconda3/lib/python3.11/site-packages/sklearn/metrics/_classification.py:1344: UndefinedMetricWarning: Precision and F-score are ill-defined and being set to 0.0 in labels with no predicted samples. Use `zero_division` parameter to control this behavior.\n",
      "  _warn_prf(average, modifier, msg_start, len(result))\n",
      "/Users/kshitizdhakal/anaconda3/lib/python3.11/site-packages/sklearn/metrics/_classification.py:1344: UndefinedMetricWarning: Precision and F-score are ill-defined and being set to 0.0 in labels with no predicted samples. Use `zero_division` parameter to control this behavior.\n",
      "  _warn_prf(average, modifier, msg_start, len(result))\n",
      "/Users/kshitizdhakal/anaconda3/lib/python3.11/site-packages/sklearn/metrics/_classification.py:1344: UndefinedMetricWarning: Precision and F-score are ill-defined and being set to 0.0 in labels with no predicted samples. Use `zero_division` parameter to control this behavior.\n",
      "  _warn_prf(average, modifier, msg_start, len(result))\n"
     ]
    }
   ],
   "source": [
    "df = df.dropna(subset=['Visibility(mi)', 'Severity'])\n",
    "\n",
    "X = df[['Visibility(mi)']] # We can change the feature and target variables according to our purpose\n",
    "y = df['Severity']\n",
    "\n",
    "X_train, X_test, y_train, y_test = train_test_split(X, y, test_size=0.2, random_state=42)\n",
    "model = LogisticRegression(max_iter=100)\n",
    "model.fit(X_train, y_train)\n",
    "\n",
    "# Predictions and evaluation\n",
    "y_pred = model.predict(X_test)\n",
    "print(\"Classification Report of Visibility and Severity:\")\n",
    "print(classification_report(y_test, y_pred))"
   ]
  },
  {
   "cell_type": "markdown",
   "metadata": {},
   "source": [
    "# Distance and Severity"
   ]
  },
  {
   "cell_type": "code",
   "execution_count": 28,
   "metadata": {
    "scrolled": true
   },
   "outputs": [
    {
     "name": "stdout",
     "output_type": "stream",
     "text": [
      "Classification Report of Distance and Severity:\n",
      "              precision    recall  f1-score   support\n",
      "\n",
      "           1       0.00      0.00      0.00       792\n",
      "           2       0.85      1.00      0.92     57966\n",
      "           3       0.00      0.00      0.00      7517\n",
      "           4       0.11      0.00      0.00      1628\n",
      "\n",
      "    accuracy                           0.85     67903\n",
      "   macro avg       0.24      0.25      0.23     67903\n",
      "weighted avg       0.73      0.85      0.79     67903\n",
      "\n"
     ]
    },
    {
     "name": "stderr",
     "output_type": "stream",
     "text": [
      "/Users/kshitizdhakal/anaconda3/lib/python3.11/site-packages/sklearn/metrics/_classification.py:1344: UndefinedMetricWarning: Precision and F-score are ill-defined and being set to 0.0 in labels with no predicted samples. Use `zero_division` parameter to control this behavior.\n",
      "  _warn_prf(average, modifier, msg_start, len(result))\n",
      "/Users/kshitizdhakal/anaconda3/lib/python3.11/site-packages/sklearn/metrics/_classification.py:1344: UndefinedMetricWarning: Precision and F-score are ill-defined and being set to 0.0 in labels with no predicted samples. Use `zero_division` parameter to control this behavior.\n",
      "  _warn_prf(average, modifier, msg_start, len(result))\n",
      "/Users/kshitizdhakal/anaconda3/lib/python3.11/site-packages/sklearn/metrics/_classification.py:1344: UndefinedMetricWarning: Precision and F-score are ill-defined and being set to 0.0 in labels with no predicted samples. Use `zero_division` parameter to control this behavior.\n",
      "  _warn_prf(average, modifier, msg_start, len(result))\n"
     ]
    }
   ],
   "source": [
    "df = df.dropna(subset=['Distance(mi)', 'Severity'])\n",
    "\n",
    "X = df[['Distance(mi)']] # We can change the feature and target variables according to our purpose\n",
    "y = df['Severity']\n",
    "\n",
    "X_train, X_test, y_train, y_test = train_test_split(X, y, test_size=0.2, random_state=42)\n",
    "model = LogisticRegression(max_iter=100)\n",
    "model.fit(X_train, y_train)\n",
    "\n",
    "# Predictions and evaluation\n",
    "y_pred = model.predict(X_test)\n",
    "print(\"Classification Report of Distance and Severity:\")\n",
    "print(classification_report(y_test, y_pred))"
   ]
  },
  {
   "cell_type": "markdown",
   "metadata": {},
   "source": [
    "# Temperature and Severity"
   ]
  },
  {
   "cell_type": "code",
   "execution_count": 29,
   "metadata": {
    "scrolled": true
   },
   "outputs": [
    {
     "name": "stdout",
     "output_type": "stream",
     "text": [
      "Classification Report of Temperature and Severity:\n",
      "              precision    recall  f1-score   support\n",
      "\n",
      "           1       0.00      0.00      0.00       792\n",
      "           2       0.85      1.00      0.92     57966\n",
      "           3       0.00      0.00      0.00      7517\n",
      "           4       0.00      0.00      0.00      1628\n",
      "\n",
      "    accuracy                           0.85     67903\n",
      "   macro avg       0.21      0.25      0.23     67903\n",
      "weighted avg       0.73      0.85      0.79     67903\n",
      "\n"
     ]
    },
    {
     "name": "stderr",
     "output_type": "stream",
     "text": [
      "/Users/kshitizdhakal/anaconda3/lib/python3.11/site-packages/sklearn/metrics/_classification.py:1344: UndefinedMetricWarning: Precision and F-score are ill-defined and being set to 0.0 in labels with no predicted samples. Use `zero_division` parameter to control this behavior.\n",
      "  _warn_prf(average, modifier, msg_start, len(result))\n",
      "/Users/kshitizdhakal/anaconda3/lib/python3.11/site-packages/sklearn/metrics/_classification.py:1344: UndefinedMetricWarning: Precision and F-score are ill-defined and being set to 0.0 in labels with no predicted samples. Use `zero_division` parameter to control this behavior.\n",
      "  _warn_prf(average, modifier, msg_start, len(result))\n",
      "/Users/kshitizdhakal/anaconda3/lib/python3.11/site-packages/sklearn/metrics/_classification.py:1344: UndefinedMetricWarning: Precision and F-score are ill-defined and being set to 0.0 in labels with no predicted samples. Use `zero_division` parameter to control this behavior.\n",
      "  _warn_prf(average, modifier, msg_start, len(result))\n"
     ]
    }
   ],
   "source": [
    "df = df.dropna(subset=['Temperature(F)', 'Severity'])\n",
    "\n",
    "X = df[['Temperature(F)']] # We can change the feature and target variables according to our purpose\n",
    "y = df['Severity']\n",
    "\n",
    "X_train, X_test, y_train, y_test = train_test_split(X, y, test_size=0.2, random_state=42)\n",
    "model = LogisticRegression(max_iter=100)\n",
    "model.fit(X_train, y_train)\n",
    "\n",
    "# Predictions and evaluation\n",
    "y_pred = model.predict(X_test)\n",
    "print(\"Classification Report of Temperature and Severity:\")\n",
    "print(classification_report(y_test, y_pred))"
   ]
  },
  {
   "cell_type": "markdown",
   "metadata": {},
   "source": [
    "# Wind_Chill and Severity"
   ]
  },
  {
   "cell_type": "code",
   "execution_count": 30,
   "metadata": {
    "scrolled": true
   },
   "outputs": [
    {
     "name": "stdout",
     "output_type": "stream",
     "text": [
      "Classification Report of Wind_Chill and Severity:\n",
      "              precision    recall  f1-score   support\n",
      "\n",
      "           1       0.00      0.00      0.00       792\n",
      "           2       0.85      1.00      0.92     57966\n",
      "           3       0.00      0.00      0.00      7517\n",
      "           4       0.00      0.00      0.00      1628\n",
      "\n",
      "    accuracy                           0.85     67903\n",
      "   macro avg       0.21      0.25      0.23     67903\n",
      "weighted avg       0.73      0.85      0.79     67903\n",
      "\n"
     ]
    },
    {
     "name": "stderr",
     "output_type": "stream",
     "text": [
      "/Users/kshitizdhakal/anaconda3/lib/python3.11/site-packages/sklearn/metrics/_classification.py:1344: UndefinedMetricWarning: Precision and F-score are ill-defined and being set to 0.0 in labels with no predicted samples. Use `zero_division` parameter to control this behavior.\n",
      "  _warn_prf(average, modifier, msg_start, len(result))\n",
      "/Users/kshitizdhakal/anaconda3/lib/python3.11/site-packages/sklearn/metrics/_classification.py:1344: UndefinedMetricWarning: Precision and F-score are ill-defined and being set to 0.0 in labels with no predicted samples. Use `zero_division` parameter to control this behavior.\n",
      "  _warn_prf(average, modifier, msg_start, len(result))\n",
      "/Users/kshitizdhakal/anaconda3/lib/python3.11/site-packages/sklearn/metrics/_classification.py:1344: UndefinedMetricWarning: Precision and F-score are ill-defined and being set to 0.0 in labels with no predicted samples. Use `zero_division` parameter to control this behavior.\n",
      "  _warn_prf(average, modifier, msg_start, len(result))\n"
     ]
    }
   ],
   "source": [
    "df = df.dropna(subset=['Wind_Chill(F)', 'Severity'])\n",
    "\n",
    "X = df[['Wind_Chill(F)']] # We can change the feature and target variables according to our purpose\n",
    "y = df['Severity']\n",
    "\n",
    "X_train, X_test, y_train, y_test = train_test_split(X, y, test_size=0.2, random_state=42)\n",
    "model = LogisticRegression(max_iter=100)\n",
    "model.fit(X_train, y_train)\n",
    "\n",
    "# Predictions and evaluation\n",
    "y_pred = model.predict(X_test)\n",
    "print(\"Classification Report of Wind_Chill and Severity:\")\n",
    "print(classification_report(y_test, y_pred))"
   ]
  },
  {
   "cell_type": "markdown",
   "metadata": {},
   "source": [
    "# Pressure and Severity"
   ]
  },
  {
   "cell_type": "code",
   "execution_count": 31,
   "metadata": {
    "scrolled": true
   },
   "outputs": [
    {
     "name": "stdout",
     "output_type": "stream",
     "text": [
      "Classification Report of Pressure and Severity:\n",
      "              precision    recall  f1-score   support\n",
      "\n",
      "           1       0.00      0.00      0.00       792\n",
      "           2       0.85      1.00      0.92     57966\n",
      "           3       0.00      0.00      0.00      7517\n",
      "           4       0.00      0.00      0.00      1628\n",
      "\n",
      "    accuracy                           0.85     67903\n",
      "   macro avg       0.21      0.25      0.23     67903\n",
      "weighted avg       0.73      0.85      0.79     67903\n",
      "\n"
     ]
    },
    {
     "name": "stderr",
     "output_type": "stream",
     "text": [
      "/Users/kshitizdhakal/anaconda3/lib/python3.11/site-packages/sklearn/metrics/_classification.py:1344: UndefinedMetricWarning: Precision and F-score are ill-defined and being set to 0.0 in labels with no predicted samples. Use `zero_division` parameter to control this behavior.\n",
      "  _warn_prf(average, modifier, msg_start, len(result))\n",
      "/Users/kshitizdhakal/anaconda3/lib/python3.11/site-packages/sklearn/metrics/_classification.py:1344: UndefinedMetricWarning: Precision and F-score are ill-defined and being set to 0.0 in labels with no predicted samples. Use `zero_division` parameter to control this behavior.\n",
      "  _warn_prf(average, modifier, msg_start, len(result))\n",
      "/Users/kshitizdhakal/anaconda3/lib/python3.11/site-packages/sklearn/metrics/_classification.py:1344: UndefinedMetricWarning: Precision and F-score are ill-defined and being set to 0.0 in labels with no predicted samples. Use `zero_division` parameter to control this behavior.\n",
      "  _warn_prf(average, modifier, msg_start, len(result))\n"
     ]
    }
   ],
   "source": [
    "df = df.dropna(subset=['Pressure(in)', 'Severity'])\n",
    "\n",
    "X = df[['Pressure(in)']] # We can change the feature and target variables according to our purpose\n",
    "y = df['Severity']\n",
    "\n",
    "X_train, X_test, y_train, y_test = train_test_split(X, y, test_size=0.2, random_state=42)\n",
    "model = LogisticRegression(max_iter=100)\n",
    "model.fit(X_train, y_train)\n",
    "\n",
    "# Predictions and evaluation\n",
    "y_pred = model.predict(X_test)\n",
    "print(\"Classification Report of Pressure and Severity:\")\n",
    "print(classification_report(y_test, y_pred))"
   ]
  },
  {
   "cell_type": "markdown",
   "metadata": {},
   "source": [
    "# Wind_Speed and Severity"
   ]
  },
  {
   "cell_type": "code",
   "execution_count": 32,
   "metadata": {
    "scrolled": true
   },
   "outputs": [
    {
     "name": "stdout",
     "output_type": "stream",
     "text": [
      "Classification Report of Wind_Speed and Severity:\n",
      "              precision    recall  f1-score   support\n",
      "\n",
      "           1       0.00      0.00      0.00       792\n",
      "           2       0.85      1.00      0.92     57966\n",
      "           3       1.00      0.00      0.00      7517\n",
      "           4       0.00      0.00      0.00      1628\n",
      "\n",
      "    accuracy                           0.85     67903\n",
      "   macro avg       0.46      0.25      0.23     67903\n",
      "weighted avg       0.84      0.85      0.79     67903\n",
      "\n"
     ]
    },
    {
     "name": "stderr",
     "output_type": "stream",
     "text": [
      "/Users/kshitizdhakal/anaconda3/lib/python3.11/site-packages/sklearn/metrics/_classification.py:1344: UndefinedMetricWarning: Precision and F-score are ill-defined and being set to 0.0 in labels with no predicted samples. Use `zero_division` parameter to control this behavior.\n",
      "  _warn_prf(average, modifier, msg_start, len(result))\n",
      "/Users/kshitizdhakal/anaconda3/lib/python3.11/site-packages/sklearn/metrics/_classification.py:1344: UndefinedMetricWarning: Precision and F-score are ill-defined and being set to 0.0 in labels with no predicted samples. Use `zero_division` parameter to control this behavior.\n",
      "  _warn_prf(average, modifier, msg_start, len(result))\n",
      "/Users/kshitizdhakal/anaconda3/lib/python3.11/site-packages/sklearn/metrics/_classification.py:1344: UndefinedMetricWarning: Precision and F-score are ill-defined and being set to 0.0 in labels with no predicted samples. Use `zero_division` parameter to control this behavior.\n",
      "  _warn_prf(average, modifier, msg_start, len(result))\n"
     ]
    }
   ],
   "source": [
    "df = df.dropna(subset=['Wind_Speed(mph)', 'Severity'])\n",
    "\n",
    "X = df[['Wind_Speed(mph)']] # We can change the feature and target variables according to our purpose\n",
    "y = df['Severity']\n",
    "\n",
    "X_train, X_test, y_train, y_test = train_test_split(X, y, test_size=0.2, random_state=42)\n",
    "model = LogisticRegression(max_iter=100)\n",
    "model.fit(X_train, y_train)\n",
    "\n",
    "# Predictions and evaluation\n",
    "y_pred = model.predict(X_test)\n",
    "print(\"Classification Report of Wind_Speed and Severity:\")\n",
    "print(classification_report(y_test, y_pred))"
   ]
  },
  {
   "cell_type": "markdown",
   "metadata": {},
   "source": [
    "# Precipitation and Severity"
   ]
  },
  {
   "cell_type": "code",
   "execution_count": 33,
   "metadata": {},
   "outputs": [
    {
     "name": "stdout",
     "output_type": "stream",
     "text": [
      "Classification Report of Precipitation and Severity:\n",
      "              precision    recall  f1-score   support\n",
      "\n",
      "           1       0.00      0.00      0.00       792\n",
      "           2       0.85      1.00      0.92     57966\n",
      "           3       0.00      0.00      0.00      7517\n",
      "           4       0.00      0.00      0.00      1628\n",
      "\n",
      "    accuracy                           0.85     67903\n",
      "   macro avg       0.21      0.25      0.23     67903\n",
      "weighted avg       0.73      0.85      0.79     67903\n",
      "\n"
     ]
    },
    {
     "name": "stderr",
     "output_type": "stream",
     "text": [
      "/Users/kshitizdhakal/anaconda3/lib/python3.11/site-packages/sklearn/metrics/_classification.py:1344: UndefinedMetricWarning: Precision and F-score are ill-defined and being set to 0.0 in labels with no predicted samples. Use `zero_division` parameter to control this behavior.\n",
      "  _warn_prf(average, modifier, msg_start, len(result))\n",
      "/Users/kshitizdhakal/anaconda3/lib/python3.11/site-packages/sklearn/metrics/_classification.py:1344: UndefinedMetricWarning: Precision and F-score are ill-defined and being set to 0.0 in labels with no predicted samples. Use `zero_division` parameter to control this behavior.\n",
      "  _warn_prf(average, modifier, msg_start, len(result))\n",
      "/Users/kshitizdhakal/anaconda3/lib/python3.11/site-packages/sklearn/metrics/_classification.py:1344: UndefinedMetricWarning: Precision and F-score are ill-defined and being set to 0.0 in labels with no predicted samples. Use `zero_division` parameter to control this behavior.\n",
      "  _warn_prf(average, modifier, msg_start, len(result))\n"
     ]
    }
   ],
   "source": [
    "df = df.dropna(subset=['Precipitation(in)', 'Severity'])\n",
    "\n",
    "X = df[['Precipitation(in)']] # We can change the feature and target variables according to our purpose\n",
    "y = df['Severity']\n",
    "\n",
    "X_train, X_test, y_train, y_test = train_test_split(X, y, test_size=0.2, random_state=42)\n",
    "model = LogisticRegression(max_iter=100)\n",
    "model.fit(X_train, y_train)\n",
    "\n",
    "# Predictions and evaluation\n",
    "y_pred = model.predict(X_test)\n",
    "print(\"Classification Report of Precipitation and Severity:\")\n",
    "print(classification_report(y_test, y_pred))"
   ]
  },
  {
   "cell_type": "code",
   "execution_count": null,
   "metadata": {},
   "outputs": [],
   "source": []
  },
  {
   "cell_type": "code",
   "execution_count": null,
   "metadata": {},
   "outputs": [],
   "source": []
  }
 ],
 "metadata": {
  "kernelspec": {
   "display_name": "Python 3 (ipykernel)",
   "language": "python",
   "name": "python3"
  },
  "language_info": {
   "codemirror_mode": {
    "name": "ipython",
    "version": 3
   },
   "file_extension": ".py",
   "mimetype": "text/x-python",
   "name": "python",
   "nbconvert_exporter": "python",
   "pygments_lexer": "ipython3",
   "version": "3.11.5"
  }
 },
 "nbformat": 4,
 "nbformat_minor": 4
}
